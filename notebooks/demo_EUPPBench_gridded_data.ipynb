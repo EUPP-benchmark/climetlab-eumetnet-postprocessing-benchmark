{
 "cells": [
  {
   "cell_type": "markdown",
   "id": "6836fb72",
   "metadata": {},
   "source": [
    "# EUPPBench benchmark dataset gridded data demo"
   ]
  },
  {
   "cell_type": "markdown",
   "id": "8d98b3f5",
   "metadata": {},
   "source": [
    "Installation with [pip](https://pypi.org/) (if needed)"
   ]
  },
  {
   "cell_type": "code",
   "execution_count": null,
   "id": "53a60658",
   "metadata": {},
   "outputs": [],
   "source": [
    "#!pip install matplotlib\n",
    "#!pip install climetlab\n",
    "#!pip install climetlab-eumetnet-postprocessing-benchmark"
   ]
  },
  {
   "cell_type": "markdown",
   "id": "c4c72959",
   "metadata": {},
   "source": [
    "Loading climetlab"
   ]
  },
  {
   "cell_type": "code",
   "execution_count": null,
   "id": "arabic-sally",
   "metadata": {},
   "outputs": [],
   "source": [
    "import climetlab as cml"
   ]
  },
  {
   "cell_type": "markdown",
   "id": "5e2b0b17",
   "metadata": {},
   "source": [
    "and matplotlib"
   ]
  },
  {
   "cell_type": "code",
   "execution_count": null,
   "id": "9919adef",
   "metadata": {},
   "outputs": [],
   "source": [
    "import matplotlib.pyplot as plt"
   ]
  },
  {
   "cell_type": "markdown",
   "id": "d2b449d3",
   "metadata": {},
   "source": [
    "## Example with deterministic forecasts"
   ]
  },
  {
   "cell_type": "markdown",
   "id": "f28463c1",
   "metadata": {},
   "source": [
    "Download of deterministic high-resolution gridded forecasts (for the total precipitation)"
   ]
  },
  {
   "cell_type": "code",
   "execution_count": null,
   "id": "be495967",
   "metadata": {},
   "outputs": [],
   "source": [
    "ds = cml.load_dataset('EUPPBench-training-data-gridded-forecasts-surface-processed', \"highres\")"
   ]
  },
  {
   "cell_type": "markdown",
   "id": "a534b8a0",
   "metadata": {},
   "source": [
    "The `ds` object returned is a climetlab datasource that can be converted to various format.\n",
    "Note that the data are cached temporarily on your disk so next time you ask for this forecast I might be faster."
   ]
  },
  {
   "cell_type": "markdown",
   "id": "9e68721a",
   "metadata": {},
   "source": [
    "For example, conversion to a [xarray](http://xarray.pydata.org/en/stable/index.html) :"
   ]
  },
  {
   "cell_type": "code",
   "execution_count": null,
   "id": "boring-bryan",
   "metadata": {},
   "outputs": [],
   "source": [
    "fcs = ds.to_xarray()\n",
    "fcs"
   ]
  },
  {
   "cell_type": "markdown",
   "id": "b856799d",
   "metadata": {},
   "source": [
    "Retrieving the observations corresponding to the forecasts (in xarray format)"
   ]
  },
  {
   "cell_type": "code",
   "execution_count": null,
   "id": "b24131d2",
   "metadata": {},
   "outputs": [],
   "source": [
    "obs = ds.get_observations_as_xarray()\n",
    "obs"
   ]
  },
  {
   "cell_type": "markdown",
   "id": "1bd57285",
   "metadata": {},
   "source": [
    "Plotting a given precipitation forecast and observation (reanalysis) fields at 12, 36 and 60 hours of lead time"
   ]
  },
  {
   "cell_type": "code",
   "execution_count": null,
   "id": "0c4e1f10",
   "metadata": {
    "scrolled": false
   },
   "outputs": [],
   "source": [
    "fig = plt.figure(figsize=(15,15))\n",
    "central_lon, central_lat = 5, 53\n",
    "extent = [2.5, 10.5, 45.75, 53.5]\n",
    "\n",
    "index = [1,5,9]\n",
    "time=11\n",
    "i=1\n",
    "\n",
    "steps = fcs.tp6.step.to_numpy().astype(float) / (3600 * 1.e9)\n",
    "\n",
    "for idx in index:\n",
    "    ax = plt.subplot(3, 2, i)\n",
    "\n",
    "    fcs.tp6.isel(step=idx, surface=0, time=time).plot(vmin=-0.0001, vmax=0.02, cmap=plt.get_cmap('gist_ncar_r'), cbar_kwargs={'label': ''})\n",
    "\n",
    "    ax.set_xticks((extent[0], extent[1]), minor = 'True')\n",
    "\n",
    "    ax.set_yticks((extent[2], extent[2]), minor= 'True')\n",
    "    ax.tick_params(axis='both', which='major', labelsize=16)\n",
    "    ax.tick_params(axis='both', which='minor', labelsize=16)\n",
    "    if idx == index[-1]:\n",
    "        ax.set_xlabel('longitude', fontsize=14)\n",
    "    else:\n",
    "        ax.set_xlabel('', fontsize=14)\n",
    "    ax.set_ylabel('latitude', fontsize=14)\n",
    "\n",
    "    ax.set_title('Forecast at lead time '+str(int(steps[idx]))+' hrs', fontsize=16)\n",
    "\n",
    "    ax = plt.subplot(3, 2, i+1)\n",
    "\n",
    "    obs.tp6.isel(step=idx, surface=0, time=time).plot(vmin=0., vmax=0.02, cmap=plt.get_cmap('gist_ncar_r'))\n",
    "\n",
    "    ax.set_xticks((extent[0], extent[1]), minor = 'True')\n",
    "\n",
    "    ax.set_yticks((extent[2], extent[2]), minor= 'True')\n",
    "    ax.tick_params(axis='both', which='major', labelsize=16)\n",
    "    ax.tick_params(axis='both', which='minor', labelsize=16)\n",
    "    ax.set_xlabel('', fontsize=14)\n",
    "    ax.set_ylabel('', fontsize=14)\n",
    "\n",
    "    ax.set_title('Observation at lead time '+str(int(steps[idx]))+' hrs', fontsize=16)\n",
    "\n",
    "    i += 2\n",
    "\n",
    "ax.set_xlabel('longitude', fontsize=14);\n",
    "# plt.tight_layout()"
   ]
  },
  {
   "cell_type": "code",
   "execution_count": null,
   "id": "0f760066",
   "metadata": {},
   "outputs": [],
   "source": []
  }
 ],
 "metadata": {
  "kernelspec": {
   "display_name": "Python 3 (ipykernel)",
   "language": "python",
   "name": "python3"
  },
  "language_info": {
   "codemirror_mode": {
    "name": "ipython",
    "version": 3
   },
   "file_extension": ".py",
   "mimetype": "text/x-python",
   "name": "python",
   "nbconvert_exporter": "python",
   "pygments_lexer": "ipython3",
   "version": "3.9.7"
  }
 },
 "nbformat": 4,
 "nbformat_minor": 5
}
